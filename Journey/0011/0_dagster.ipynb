{
 "cells": [
  {
   "cell_type": "markdown",
   "metadata": {},
   "source": [
    "## DAGSTER\n",
    "[Data orchestration platform](https://github.com/dagster-io/dagster) for machine learning\n",
    "\n",
    "A \"@job\" (@pipeline) is a set of @ops (@solid) arranged into a DAG of computation.  You'll typically define jobs by annotating ordinary Python functions with the @job decorator\n",
    "- Dagster: the core programming model and abstraction stack; stateless, single-node, single-process and multi-process execution engines; and a CLI tool for driving those engines.\n",
    "- Dagit: the UI(user interface) for developing and operating Dagster jobs, including a DAG browser, a type-aware config editor, and a live execution interface."
   ]
  },
  {
   "cell_type": "markdown",
   "metadata": {},
   "source": [
    "### LIBRARIES"
   ]
  },
  {
   "cell_type": "code",
   "execution_count": 11,
   "metadata": {},
   "outputs": [],
   "source": [
    "from dagster import pipeline, solid, execute_pipeline\n",
    "from dagster import job, op   #NEW nomenclatures: @job=@pipeline / @op=@solid / @composite_solid=@graph"
   ]
  },
  {
   "cell_type": "markdown",
   "metadata": {},
   "source": [
    "### EXAMPLE 1: USING OLD @solid - @pipeline NOMENCLATURE"
   ]
  },
  {
   "cell_type": "code",
   "execution_count": 12,
   "metadata": {},
   "outputs": [],
   "source": [
    "@solid\n",
    "def hello_world(context):\n",
    "    context.log.info(\"Hello world\")\n",
    "\n",
    "@pipeline\n",
    "def hello_world_pipeline():\n",
    "    hello_world()"
   ]
  },
  {
   "cell_type": "code",
   "execution_count": 13,
   "metadata": {},
   "outputs": [
    {
     "name": "stderr",
     "output_type": "stream",
     "text": [
      "2021-11-21 14:10:57 - dagster - DEBUG - hello_world_pipeline - ab4c5760-ae25-4e4d-834c-3192bb207e02 - 5900 - RUN_START - Started execution of run for \"hello_world_pipeline\".\n",
      "2021-11-21 14:10:57 - dagster - DEBUG - hello_world_pipeline - ab4c5760-ae25-4e4d-834c-3192bb207e02 - 5900 - ENGINE_EVENT - Executing steps in process (pid: 5900)\n",
      "2021-11-21 14:10:57 - dagster - DEBUG - hello_world_pipeline - ab4c5760-ae25-4e4d-834c-3192bb207e02 - 5900 - hello_world - ENGINE_EVENT - Starting initialization of resources [io_manager].\n",
      "2021-11-21 14:10:57 - dagster - DEBUG - hello_world_pipeline - ab4c5760-ae25-4e4d-834c-3192bb207e02 - 5900 - hello_world - ENGINE_EVENT - Finished initialization of resources [io_manager].\n",
      "2021-11-21 14:10:57 - dagster - DEBUG - hello_world_pipeline - ab4c5760-ae25-4e4d-834c-3192bb207e02 - 5900 - hello_world - LOGS_CAPTURED - Started capturing logs for solid: hello_world.\n",
      "2021-11-21 14:10:57 - dagster - DEBUG - hello_world_pipeline - ab4c5760-ae25-4e4d-834c-3192bb207e02 - 5900 - hello_world - STEP_START - Started execution of step \"hello_world\".\n",
      "2021-11-21 14:10:57 - dagster - INFO - hello_world_pipeline - ab4c5760-ae25-4e4d-834c-3192bb207e02 - hello_world - Hello world\n",
      "2021-11-21 14:10:57 - dagster - DEBUG - hello_world_pipeline - ab4c5760-ae25-4e4d-834c-3192bb207e02 - 5900 - hello_world - STEP_OUTPUT - Yielded output \"result\" of type \"Any\". (Type check passed).\n",
      "2021-11-21 14:10:57 - dagster - DEBUG - hello_world_pipeline - ab4c5760-ae25-4e4d-834c-3192bb207e02 - 5900 - hello_world - HANDLED_OUTPUT - Handled output \"result\" using IO manager \"io_manager\"\n",
      "2021-11-21 14:10:57 - dagster - DEBUG - hello_world_pipeline - ab4c5760-ae25-4e4d-834c-3192bb207e02 - 5900 - hello_world - STEP_SUCCESS - Finished execution of step \"hello_world\" in 8.23ms.\n",
      "2021-11-21 14:10:57 - dagster - DEBUG - hello_world_pipeline - ab4c5760-ae25-4e4d-834c-3192bb207e02 - 5900 - ENGINE_EVENT - Finished steps in process (pid: 5900) in 24ms\n",
      "2021-11-21 14:10:57 - dagster - DEBUG - hello_world_pipeline - ab4c5760-ae25-4e4d-834c-3192bb207e02 - 5900 - RUN_SUCCESS - Finished execution of run for \"hello_world_pipeline\".\n"
     ]
    }
   ],
   "source": [
    "if __name__ == \"__main__\":\n",
    "    execute_pipeline(hello_world_pipeline)"
   ]
  },
  {
   "cell_type": "markdown",
   "metadata": {},
   "source": [
    "### EXAMPLE 2: USING NEW @op - @job NOMENCLATURE\n",
    "\n",
    "- @op: Individual Unit of Computation.  Individual @op's should perform relatively simple tasks.  Each @op has a set of inputs and outputs, which define the data it consumes and produces. Inputs and outputs are used to define dependencies between @op's and to pass data between @op's\n",
    "- @job: Is a set of @op's arranged into a DAG of computation\n",
    "- context: When writing an op, users can optionally provide a first parameter, context. When this parameter is supplied, Dagster will supply a context object to the body of the @op. The context provides access to system information like op configuration, loggers, resources, and the current run id\n",
    "\n",
    "<p align="center"><img src=\"dag2.png\" width=550 height=500 /></p>\n",
    "\n"
   ]
  },
  {
   "cell_type": "code",
   "execution_count": 14,
   "metadata": {},
   "outputs": [],
   "source": [
    "@op\n",
    "def get_name():\n",
    "    return \"dagster\"\n",
    "\n",
    "@op\n",
    "def hello(context, name: str):\n",
    "    context.log.info(f\"Hello, {name}!\")\n",
    "\n",
    "@job\n",
    "def hello_dagster():\n",
    "    hello(get_name())"
   ]
  },
  {
   "cell_type": "markdown",
   "metadata": {},
   "source": [
    "### Executing the job with the ***Dagster Python API***, using the \"execute_in_process\" method  \n",
    "(Note that this method is different than the \"execute_pipeline()\" method that is used with the @solid - @pipeline nomenclature)"
   ]
  },
  {
   "cell_type": "code",
   "execution_count": 15,
   "metadata": {},
   "outputs": [
    {
     "name": "stderr",
     "output_type": "stream",
     "text": [
      "2021-11-21 14:10:57 - dagster - DEBUG - hello_dagster - a4af25de-a87d-4ae9-9524-102a93231b16 - 5900 - RUN_START - Started execution of run for \"hello_dagster\".\n",
      "2021-11-21 14:10:57 - dagster - DEBUG - hello_dagster - a4af25de-a87d-4ae9-9524-102a93231b16 - 5900 - ENGINE_EVENT - Executing steps in process (pid: 5900)\n",
      "2021-11-21 14:10:57 - dagster - DEBUG - hello_dagster - a4af25de-a87d-4ae9-9524-102a93231b16 - 5900 - ENGINE_EVENT - Starting initialization of resources [io_manager].\n",
      "2021-11-21 14:10:57 - dagster - DEBUG - hello_dagster - a4af25de-a87d-4ae9-9524-102a93231b16 - 5900 - ENGINE_EVENT - Finished initialization of resources [io_manager].\n",
      "2021-11-21 14:10:57 - dagster - DEBUG - hello_dagster - a4af25de-a87d-4ae9-9524-102a93231b16 - 5900 - get_name - LOGS_CAPTURED - Started capturing logs for solid: get_name.\n",
      "2021-11-21 14:10:57 - dagster - DEBUG - hello_dagster - a4af25de-a87d-4ae9-9524-102a93231b16 - 5900 - get_name - STEP_START - Started execution of step \"get_name\".\n",
      "2021-11-21 14:10:57 - dagster - DEBUG - hello_dagster - a4af25de-a87d-4ae9-9524-102a93231b16 - 5900 - get_name - STEP_OUTPUT - Yielded output \"result\" of type \"Any\". (Type check passed).\n",
      "2021-11-21 14:10:57 - dagster - DEBUG - hello_dagster - a4af25de-a87d-4ae9-9524-102a93231b16 - 5900 - get_name - HANDLED_OUTPUT - Handled output \"result\" using IO manager \"io_manager\"\n",
      "2021-11-21 14:10:57 - dagster - DEBUG - hello_dagster - a4af25de-a87d-4ae9-9524-102a93231b16 - 5900 - get_name - STEP_SUCCESS - Finished execution of step \"get_name\" in 5.12ms.\n",
      "2021-11-21 14:10:57 - dagster - DEBUG - hello_dagster - a4af25de-a87d-4ae9-9524-102a93231b16 - 5900 - hello - LOGS_CAPTURED - Started capturing logs for solid: hello.\n",
      "2021-11-21 14:10:57 - dagster - DEBUG - hello_dagster - a4af25de-a87d-4ae9-9524-102a93231b16 - 5900 - hello - STEP_START - Started execution of step \"hello\".\n",
      "2021-11-21 14:10:57 - dagster - DEBUG - hello_dagster - a4af25de-a87d-4ae9-9524-102a93231b16 - 5900 - hello - LOADED_INPUT - Loaded input \"name\" using input manager \"io_manager\", from output \"result\" of step \"get_name\"\n",
      "2021-11-21 14:10:57 - dagster - DEBUG - hello_dagster - a4af25de-a87d-4ae9-9524-102a93231b16 - 5900 - hello - STEP_INPUT - Got input \"name\" of type \"String\". (Type check passed).\n",
      "2021-11-21 14:10:57 - dagster - INFO - hello_dagster - a4af25de-a87d-4ae9-9524-102a93231b16 - hello - Hello, dagster!\n",
      "2021-11-21 14:10:57 - dagster - DEBUG - hello_dagster - a4af25de-a87d-4ae9-9524-102a93231b16 - 5900 - hello - STEP_OUTPUT - Yielded output \"result\" of type \"Any\". (Type check passed).\n",
      "2021-11-21 14:10:57 - dagster - DEBUG - hello_dagster - a4af25de-a87d-4ae9-9524-102a93231b16 - 5900 - hello - HANDLED_OUTPUT - Handled output \"result\" using IO manager \"io_manager\"\n",
      "2021-11-21 14:10:57 - dagster - DEBUG - hello_dagster - a4af25de-a87d-4ae9-9524-102a93231b16 - 5900 - hello - STEP_SUCCESS - Finished execution of step \"hello\" in 7.8ms.\n",
      "2021-11-21 14:10:57 - dagster - DEBUG - hello_dagster - a4af25de-a87d-4ae9-9524-102a93231b16 - 5900 - ENGINE_EVENT - Finished steps in process (pid: 5900) in 44ms\n",
      "2021-11-21 14:10:57 - dagster - DEBUG - hello_dagster - a4af25de-a87d-4ae9-9524-102a93231b16 - 5900 - RUN_SUCCESS - Finished execution of run for \"hello_dagster\".\n"
     ]
    }
   ],
   "source": [
    "if __name__ == \"__main__\":\n",
    "    result = hello_dagster.execute_in_process()"
   ]
  },
  {
   "cell_type": "markdown",
   "metadata": {},
   "source": [
    "### @job's and @graph's, different [configurations](https://docs.dagster.io/concepts/ops-jobs-graphs/jobs-graphs) "
   ]
  },
  {
   "cell_type": "code",
   "execution_count": null,
   "metadata": {},
   "outputs": [],
   "source": []
  }
 ],
 "metadata": {
  "kernelspec": {
   "display_name": "Python 3",
   "language": "python",
   "name": "python3"
  },
  "language_info": {
   "codemirror_mode": {
    "name": "ipython",
    "version": 3
   },
   "file_extension": ".py",
   "mimetype": "text/x-python",
   "name": "python",
   "nbconvert_exporter": "python",
   "pygments_lexer": "ipython3",
   "version": "3.8.5"
  }
 },
 "nbformat": 4,
 "nbformat_minor": 4
}
