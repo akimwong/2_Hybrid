{
 "cells": [
  {
   "cell_type": "code",
   "execution_count": 2,
   "metadata": {},
   "outputs": [],
   "source": [
    "import boto3\n",
    "client = boto3.client('dynamodb')\n",
    "dynamodb = boto3.resource('dynamodb')"
   ]
  },
  {
   "cell_type": "code",
   "execution_count": 3,
   "metadata": {},
   "outputs": [
    {
     "name": "stdout",
     "output_type": "stream",
     "text": [
      "dynamodb.Table(name='habitaclia_base')\n"
     ]
    }
   ],
   "source": [
    "table = dynamodb.create_table (\n",
    "    TableName = 'habitaclia_base',\n",
    "       KeySchema = [\n",
    "           {\n",
    "               'AttributeName': 'url',\n",
    "               'KeyType': 'HASH'\n",
    "           }\n",
    "           ],\n",
    "           AttributeDefinitions = [\n",
    "               {\n",
    "                   'AttributeName': 'url',\n",
    "                   'AttributeType': 'S'\n",
    "               }\n",
    "            ],\n",
    "            ProvisionedThroughput={\n",
    "                'ReadCapacityUnits':1,\n",
    "                'WriteCapacityUnits':1\n",
    "            }\n",
    "          \n",
    "    )\n",
    "print(table)"
   ]
  },
  {
   "cell_type": "code",
   "execution_count": null,
   "metadata": {},
   "outputs": [],
   "source": []
  }
 ],
 "metadata": {
  "kernelspec": {
   "display_name": "Python 3",
   "language": "python",
   "name": "python3"
  },
  "language_info": {
   "codemirror_mode": {
    "name": "ipython",
    "version": 3
   },
   "file_extension": ".py",
   "mimetype": "text/x-python",
   "name": "python",
   "nbconvert_exporter": "python",
   "pygments_lexer": "ipython3",
   "version": "3.8.5"
  }
 },
 "nbformat": 4,
 "nbformat_minor": 4
}
